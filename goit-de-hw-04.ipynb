{
 "cells": [
  {
   "cell_type": "markdown",
   "metadata": {},
   "source": [
    "# goit-de-hw-04. Apache Spark. Оптимізація та SparkUІ\n"
   ]
  },
  {
   "cell_type": "markdown",
   "metadata": {},
   "source": [
    "## Завдання\n"
   ]
  },
  {
   "cell_type": "markdown",
   "metadata": {},
   "source": [
    "- запустити три програми;\n",
    "- зробити скриншоти трьох наборів Jobs;\n",
    "- проаналізувати та вміти обґрунтувати наявність певної кількості Jobs у кожному наборі;\n",
    "- зрозуміти, що робить функція `cache` та навіщо її використовувати.\n"
   ]
  },
  {
   "cell_type": "markdown",
   "metadata": {},
   "source": [
    "## Рішення\n"
   ]
  },
  {
   "cell_type": "markdown",
   "metadata": {},
   "source": [
    "### Частина 1\n",
    "\n",
    "Запустіть код. Зробіть скриншот усіх Jobs (їх має бути 5).\n"
   ]
  },
  {
   "cell_type": "code",
   "execution_count": 11,
   "metadata": {},
   "outputs": [
    {
     "data": {
      "text/plain": [
       "[Row(unit_id='83', count=4)]"
      ]
     },
     "execution_count": 11,
     "metadata": {},
     "output_type": "execute_result"
    }
   ],
   "source": [
    "from pyspark.sql import SparkSession\n",
    "\n",
    "# Створюємо сесію Spark\n",
    "spark = (\n",
    "    SparkSession.builder.master(\"local[*]\")\n",
    "    .config(\"spark.sql.shuffle.partitions\", \"2\")\n",
    "    .appName(\"MyGoitSparkSandbox\")\n",
    "    .getOrCreate()\n",
    ")\n",
    "\n",
    "# Завантажуємо датасет\n",
    "nuek_df = (\n",
    "    spark.read.option(\"header\", \"true\")\n",
    "    .option(\"inferSchema\", \"true\")\n",
    "    .csv(\"./csv/nuek-vuh3.csv\")\n",
    ")\n",
    "\n",
    "nuek_repart = nuek_df.repartition(2)\n",
    "\n",
    "nuek_processed = (\n",
    "    nuek_repart.where(\"final_priority < 3\")\n",
    "    .select(\"unit_id\", \"final_priority\")\n",
    "    .groupBy(\"unit_id\")\n",
    "    .count()\n",
    ")\n",
    "\n",
    "# Ось ТУТ додано рядок\n",
    "nuek_processed = nuek_processed.where(\"count>2\")\n",
    "\n",
    "nuek_processed.collect()\n",
    "\n",
    "# input(\"Press Enter to continue...5\")"
   ]
  },
  {
   "cell_type": "markdown",
   "metadata": {},
   "source": [
    "Скріншоти Jobs:  \n",
    "\n",
    "1. [Job 0](md.media/p1_j0.png)  \n",
    "2. [Job 1](md.media/p1_j1.png)  \n",
    "3. [Job 2](md.media/p1_j2.png)  \n",
    "4. [Job 3](md.media/p1_j3.png)  \n",
    "5. [Job 4](md.media/p1_j4.png)  \n"
   ]
  },
  {
   "cell_type": "code",
   "execution_count": 12,
   "metadata": {},
   "outputs": [],
   "source": [
    "# Закриваємо сесію Spark\n",
    "spark.stop()"
   ]
  },
  {
   "cell_type": "markdown",
   "metadata": {},
   "source": [
    "### Частина 2"
   ]
  },
  {
   "cell_type": "markdown",
   "metadata": {},
   "source": [
    "Додамо проміжний Action — collect:"
   ]
  },
  {
   "cell_type": "code",
   "execution_count": 13,
   "metadata": {},
   "outputs": [
    {
     "data": {
      "text/plain": [
       "[Row(unit_id='83', count=4)]"
      ]
     },
     "execution_count": 13,
     "metadata": {},
     "output_type": "execute_result"
    }
   ],
   "source": [
    "from pyspark.sql import SparkSession\n",
    "\n",
    "# Створюємо сесію Spark\n",
    "spark = (\n",
    "    SparkSession.builder.master(\"local[*]\")\n",
    "    .config(\"spark.sql.shuffle.partitions\", \"2\")\n",
    "    .appName(\"MyGoitSparkSandbox\")\n",
    "    .getOrCreate()\n",
    ")\n",
    "\n",
    "# Завантажуємо датасет\n",
    "nuek_df = (\n",
    "    spark.read.option(\"header\", \"true\")\n",
    "    .option(\"inferSchema\", \"true\")\n",
    "    .csv(\"./csv/nuek-vuh3.csv\")\n",
    ")\n",
    "\n",
    "nuek_repart = nuek_df.repartition(2)\n",
    "\n",
    "nuek_processed = (\n",
    "    nuek_repart.where(\"final_priority < 3\")\n",
    "    .select(\"unit_id\", \"final_priority\")\n",
    "    .groupBy(\"unit_id\")\n",
    "    .count()\n",
    ")\n",
    "\n",
    "# Проміжний action: collect\n",
    "nuek_processed.collect()\n",
    "\n",
    "# Ось ТУТ додано рядок\n",
    "nuek_processed = nuek_processed.where(\"count>2\")\n",
    "\n",
    "nuek_processed.collect()\n",
    "\n",
    "# input(\"Press Enter to continue...5\")"
   ]
  },
  {
   "cell_type": "markdown",
   "metadata": {},
   "source": [
    "`Collect` є однією з дій (Action) які запускають Job.  \n",
    "Такими діями в Spark також є: `collect()`, `count()`, `save()`, `show()`\n",
    "\n",
    "Скріншоти Jobs:\n",
    "\n",
    "1. [Job 0](md.media/p2_0.png)  \n",
    "2. [Job 1](md.media/p2_1.png)  \n",
    "3. [Job 2](md.media/p2_2.png)  \n",
    "4. [Job 3](md.media/p2_3.png)  \n",
    "5. [Job 4](md.media/p2_4.png)  \n",
    "6. [Job 5](md.media/p2_5.png)  \n",
    "7. [Job 6](md.media/p2_6.png)  \n",
    "8. [Job 7](md.media/p2_7.png)  \n"
   ]
  },
  {
   "cell_type": "code",
   "execution_count": 14,
   "metadata": {},
   "outputs": [],
   "source": [
    "# Закриваємо сесію Spark\n",
    "spark.stop()\n"
   ]
  },
  {
   "cell_type": "markdown",
   "metadata": {},
   "source": [
    "### Частина 3\n"
   ]
  },
  {
   "cell_type": "markdown",
   "metadata": {},
   "source": [
    "Використаємо функцію `cache` в проміжному результаті.\n",
    "\n",
    "     ☝🏻Функція cache() в PySpark використовується для кешування (зберігання в пам'яті) даних RDD (Resilient Distributed Dataset) або DataFrame. Це дозволяє прискорити виконання подальших дій (actions) або перетворень (transformations), які працюють з тими ж даними. Кешування особливо корисне, коли ви виконуєте декілька операцій на одному й тому ж RDD або DataFrame, оскільки PySpark не буде повторно обчислювати ті самі дані."
   ]
  },
  {
   "cell_type": "markdown",
   "metadata": {},
   "source": [
    "**Як працює **`cache()`** :**\n",
    "\n",
    "**1. Кешування в пам'яті.** Коли ви викликаєте `cache()` на RDD або DataFrame, дані зберігаються в пам'яті (RAM) у розподіленому вигляді на всіх вузлах кластера. Це дозволяє прискорити подальші обчислення, оскільки Spark не буде знову завантажувати або обчислювати ці дані.\n",
    "\n",
    "**2. Ліниве виконання.** Виклик `cache()` не призводить до негайного виконання обчислень. Лише коли ви виконуєте дію (action), наприклад, `count()`, `collect()`, або `show()`, дані будуть обчислені та кешовані.\n",
    "\n",
    "**3. Механізм зберігання.** За замовчуванням, `cache()` використовує пам'ять (Memory). Однак, якщо дані не поміщаються в пам'ять, Spark буде зберігати їх на диску.\n",
    "\n",
    "**4. Контроль над кешуванням.** Коли ви використовуєте `cache()`, Spark зберігає дані з рівнем зберігання `MEMORY_ONLY`. Якщо ви хочете використовувати інші рівні зберігання, такі як `MEMORY_AND_DISK`, можна використовувати метод `persist()`.\n",
    "\n",
    "    ☝🏻Важливо знати, що можливо зберігати як в пам'яті, так і на диску. Зберігання в пам'яті набагато більш розповсюджене, на диску — екзотика 😉"
   ]
  },
  {
   "cell_type": "code",
   "execution_count": 15,
   "metadata": {},
   "outputs": [
    {
     "data": {
      "text/plain": [
       "[Row(unit_id='83', count=4)]"
      ]
     },
     "execution_count": 15,
     "metadata": {},
     "output_type": "execute_result"
    }
   ],
   "source": [
    "from pyspark.sql import SparkSession\n",
    "\n",
    "# Створюємо сесію Spark\n",
    "spark = (\n",
    "    SparkSession.builder.master(\"local[*]\")\n",
    "    .config(\"spark.sql.shuffle.partitions\", \"2\")\n",
    "    .appName(\"MyGoitSparkSandbox\")\n",
    "    .getOrCreate()\n",
    ")\n",
    "\n",
    "# Завантажуємо датасет\n",
    "nuek_df = (\n",
    "    spark.read.option(\"header\", \"true\")\n",
    "    .option(\"inferSchema\", \"true\")\n",
    "    .csv(\"./csv/nuek-vuh3.csv\")\n",
    ")\n",
    "\n",
    "nuek_repart = nuek_df.repartition(2)\n",
    "\n",
    "nuek_processed_cached = (\n",
    "    nuek_repart.where(\"final_priority < 3\")\n",
    "    .select(\"unit_id\", \"final_priority\")\n",
    "    .groupBy(\"unit_id\")\n",
    "    .count()\n",
    "    .cache()\n",
    ")  # Додано функцію cache\n",
    "\n",
    "# Проміжний action: collect\n",
    "nuek_processed_cached.collect()\n",
    "\n",
    "# Ось ТУТ додано рядок\n",
    "nuek_processed = nuek_processed_cached.where(\"count>2\")\n",
    "\n",
    "nuek_processed.collect()\n",
    "\n",
    "# input(\"Press Enter to continue...5\")"
   ]
  },
  {
   "cell_type": "code",
   "execution_count": 16,
   "metadata": {},
   "outputs": [],
   "source": [
    "# Звільняємо пам'ять від Dataframe\n",
    "nuek_processed_cached.unpersist()\n",
    "\n",
    "\n",
    "# Закриваємо сесію Spark\n",
    "spark.stop()"
   ]
  },
  {
   "cell_type": "markdown",
   "metadata": {},
   "source": [
    "Завдяки використанню `cache` ми зменшили кількість Jobs.\n",
    "\n",
    "Скріншоти Jobs:\n",
    "\n",
    "1. [All jobs](md.media/p3_jobs.png)\n",
    "1. [Job 0](md.media/p3_job_0.png)\n",
    "1. [Job 1](md.media/p3_job_1.png)\n",
    "1. [Job 2](md.media/p3_job_2.png)\n",
    "1. [Job 3](md.media/p3_job_3.png)\n"
   ]
  }
 ],
 "metadata": {
  "kernelspec": {
   "display_name": "goit_pyspark_sandbox",
   "language": "python",
   "name": "python3"
  },
  "language_info": {
   "codemirror_mode": {
    "name": "ipython",
    "version": 3
   },
   "file_extension": ".py",
   "mimetype": "text/x-python",
   "name": "python",
   "nbconvert_exporter": "python",
   "pygments_lexer": "ipython3",
   "version": "3.11.10"
  }
 },
 "nbformat": 4,
 "nbformat_minor": 2
}
